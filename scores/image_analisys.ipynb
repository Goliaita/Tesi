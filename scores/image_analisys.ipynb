{
 "cells": [
  {
   "cell_type": "code",
   "execution_count": 1,
   "metadata": {},
   "outputs": [
    {
     "name": "stdout",
     "output_type": "stream",
     "text": [
      "Jupyter environment detected. Enabling Open3D WebVisualizer.\n",
      "[Open3D INFO] WebRTC GUI backend enabled.\n",
      "[Open3D INFO] WebRTCWindowSystem: HTTP handshake server disabled.\n"
     ]
    }
   ],
   "source": [
    "import cv2\n",
    "from matplotlib import pyplot as plt\n",
    "from PIL import Image\n",
    "import numpy as np\n",
    "import open3d as o3d\n",
    "import time\n",
    "import json"
   ]
  },
  {
   "cell_type": "code",
   "execution_count": 2,
   "metadata": {},
   "outputs": [],
   "source": [
    "img = cv2.imread(\"../dataset/rgbd/rgbd_depth/depth_009_05.png\")\n",
    "img_pil = Image.open(\"../dataset/rgbd/rgbd_depth/depth_009_05.png\")\n",
    "# img_np = np.load(\"../dataset/rgbd/rgbd_depth/depth_002_03.png\")"
   ]
  },
  {
   "cell_type": "code",
   "execution_count": 3,
   "metadata": {},
   "outputs": [
    {
     "name": "stdout",
     "output_type": "stream",
     "text": [
      "0.540193814\n"
     ]
    }
   ],
   "source": [
    "ranges_x = np.arange(0,255,0.1)\n",
    "pil_data = np.asarray(list(img_pil.getdata())).reshape((img_pil.width,img_pil.height))\n",
    "print(pil_data[101,101] * 0.000124987)\n"
   ]
  },
  {
   "cell_type": "code",
   "execution_count": 13,
   "metadata": {},
   "outputs": [],
   "source": [
    "# img = Image.open(\"C:/Users/david/Pictures/realsense/depth_02_Depth.png\").convert(\"L\")\n",
    "# img = o3d.io.read_image(\"C:/Users/david/Pictures/06_Depth.png\")\n",
    "# rgb_image = o3d.io.read_image(\"C:/Users/david/Pictures/06_Color.png\")\n",
    "\n",
    "\n",
    "img = o3d.io.read_image      (\"C:/Users/david/Pictures/realsense/test_set_full/day_05/depth/depth_009.png\")\n",
    "rgb_image = o3d.io.read_image(\"C:/Users/david/Pictures/realsense/test_set_full/day_05/color/color_009.png\")\n",
    "\n",
    "\n",
    "# img = np.asarray(img)\n",
    "# print(img.shape)\n",
    "# depth_img = o3d.geometry.Image(img)\n",
    "# intrinsics = np.array([[475.903, 0, 315.53],[0, 475.903, 245.44],[0, 0, 1]])\n",
    "\n",
    "\n",
    "img_o3d = o3d.geometry.RGBDImage.create_from_color_and_depth(rgb_image, img, depth_scale=1000)\n",
    "pcd = o3d.geometry.PointCloud.create_from_rgbd_image(\n",
    "    img_o3d,\n",
    "    o3d.camera.PinholeCameraIntrinsic(\n",
    "        1280, 720, 637.735, 637.735, 645.414, 349.205))\n",
    "# Flip it, otherwise the pointcloud will be upside down\n",
    "pcd.transform([[1, 0, 0, 0], [0, -1, 0, 0], [0, 0, -1, 0], [0, 0, 0, 1]])\n",
    "\n",
    "o3d.visualization.draw_geometries([pcd])\n",
    "\n"
   ]
  },
  {
   "cell_type": "code",
   "execution_count": 5,
   "metadata": {},
   "outputs": [
    {
     "name": "stdout",
     "output_type": "stream",
     "text": [
      "0.0014975663670125164\n"
     ]
    }
   ],
   "source": [
    "area = np.load(\"dati1.txt.npy\")\n",
    "\n",
    "pcd = o3d.geometry.PointCloud()\n",
    "\n",
    "pcd.points = o3d.utility.Vector3dVector(area)\n",
    "\n",
    "o3d.geometry.PointCloud.estimate_normals(pcd, search_param=o3d.geometry.KDTreeSearchParamHybrid(radius=1, max_nn=1))\n",
    "distances = pcd.compute_nearest_neighbor_distance()\n",
    "avg_dist = np.mean(distances)\n",
    "radius = 10 * avg_dist\n",
    "\n",
    "mesh = o3d.geometry.TriangleMesh.create_from_point_cloud_ball_pivoting(\n",
    "           pcd,\n",
    "           o3d.utility.DoubleVector([radius, radius * 2]))\n",
    "\n",
    "mesh.paint_uniform_color([0.9, 0.1, 0.1])\n",
    "\n",
    "\n",
    "o3d.visualization.draw_geometries([mesh])\n",
    "\n",
    "print(mesh.get_surface_area())\n",
    "\n"
   ]
  },
  {
   "cell_type": "code",
   "execution_count": 42,
   "metadata": {},
   "outputs": [
    {
     "name": "stdout",
     "output_type": "stream",
     "text": [
      "0.99\n",
      "-0.35642698731720834 -0.23935425430802923\n"
     ]
    }
   ],
   "source": [
    "# im_d = np.array(Image.open(\"C:/Users/david/Pictures/06_Depth.png\").convert(\"L\"))\n",
    "# im_d = cv2.imread(\"./test_depth.png\", 0)\n",
    "imported = Image.open(\"../test_depth.png\")\n",
    "im_d = np.array(list(imported.getdata())).reshape((imported.height,imported.width))\n",
    "intrinsics = np.array([[606.018, 0, 318.183], [0, 604.975, 246.266], [0, 0, 1]])\n",
    "\n",
    "\n",
    "z = im_d * 0.001\n",
    "position = 100\n",
    "x = (position - intrinsics[0,2]) / intrinsics[0,0] * z[position,position]\n",
    "y = (position - intrinsics[1,2]) / intrinsics[1,1] * z[position,position]\n",
    "print(z[position,position])\n",
    "print(x, y)"
   ]
  },
  {
   "cell_type": "code",
   "execution_count": 7,
   "metadata": {},
   "outputs": [],
   "source": [
    "# import pyvista as pv\n",
    "# # \n",
    "# img = Image.open(\"C:/Users/david/Pictures/realsense/depth_02_Depth.png\")\n",
    "# cloud = pv.PolyData(img)\n",
    "# surf = cloud.delaunay_2d()\n",
    "# surf.plot(show_edges=True)\n",
    "# print(surf.area)"
   ]
  },
  {
   "cell_type": "code",
   "execution_count": 2,
   "metadata": {},
   "outputs": [],
   "source": [
    "with open(\"metrics.json\", 'r') as f:\n",
    "        leaf_data = json.load(f)"
   ]
  },
  {
   "cell_type": "code",
   "execution_count": 3,
   "metadata": {},
   "outputs": [
    {
     "name": "stdout",
     "output_type": "stream",
     "text": [
      "color_009.png\n",
      "(7340, 3)\n"
     ]
    }
   ],
   "source": [
    "# print(leaf_data[\"leafs\"][-1][\"xyz_position\"][0])\n",
    "print(leaf_data[\"leafs\"][-1][\"image_name\"])\n",
    "data = np.array(leaf_data[\"leafs\"][-1][\"xyz_position\"]).reshape((-1,3))\n",
    "\n",
    "print(data.shape)\n",
    "pcd = o3d.geometry.PointCloud()\n",
    "pcd.points = o3d.utility.Vector3dVector(data)\n",
    "\n",
    "o3d.visualization.draw_geometries([pcd])"
   ]
  }
 ],
 "metadata": {
  "interpreter": {
   "hash": "e2381145111bc30c3424d071b9e1a3a4425b595547cfd3fc534ba4a3db9b7a9c"
  },
  "kernelspec": {
   "display_name": "Python 3.9.7 64-bit ('tesi': conda)",
   "language": "python",
   "name": "python3"
  },
  "language_info": {
   "codemirror_mode": {
    "name": "ipython",
    "version": 3
   },
   "file_extension": ".py",
   "mimetype": "text/x-python",
   "name": "python",
   "nbconvert_exporter": "python",
   "pygments_lexer": "ipython3",
   "version": "3.9.7"
  },
  "orig_nbformat": 4
 },
 "nbformat": 4,
 "nbformat_minor": 2
}
