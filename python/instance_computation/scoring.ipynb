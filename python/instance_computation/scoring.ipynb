{
 "cells": [
  {
   "cell_type": "markdown",
   "metadata": {},
   "source": [
    "# Compute and compare different networks to \"Hierarchical Framework for Leaf Instance Segmentation\""
   ]
  },
  {
   "cell_type": "code",
   "execution_count": 1,
   "metadata": {},
   "outputs": [],
   "source": [
    "from argparse import Namespace\n",
    "import numpy as np\n",
    "from matplotlib import pyplot as plt\n",
    "import pandas as pd\n",
    "from compute_scores import compute_scores"
   ]
  },
  {
   "cell_type": "markdown",
   "metadata": {},
   "source": [
    "### Set the default value to run the script\n",
    "\n",
    "- result_path: is the detected area from the networks\n",
    "- gt_path: is the ground truth annotation area\n",
    "- score: is the prediction probabilities default is 0.5\n",
    "- write: is used to write results in a file"
   ]
  },
  {
   "cell_type": "code",
   "execution_count": 2,
   "metadata": {},
   "outputs": [
    {
     "name": "stdout",
     "output_type": "stream",
     "text": [
      "loading annotations into memory...\n",
      "Done (t=0.03s)\n",
      "creating index...\n",
      "index created!\n",
      "Loaded data\n",
      "\n",
      "Data Prepared for computation\n",
      "Total element to analyze: 4045\n",
      "Total element inside the images 3778\n",
      "\n",
      "Starting computing Scores\n",
      "\n"
     ]
    },
    {
     "name": "stderr",
     "output_type": "stream",
     "text": [
      "Dice: 100%|##########| 4045/4045 [00:10<00:00, 402.87it/s]\n",
      "Symmetric Dice: 100%|##########| 3778/3778 [00:09<00:00, 391.90it/s]\n"
     ]
    }
   ],
   "source": [
    "args_b_o = Namespace(result_path    = \"../AdelaiDet/training_dir/blendmask_R_101_dcn_5x_4/inference/coco_instances_results.json\",\n",
    "                 gt_path        = \"../dataset/annotations/validation900.json\",\n",
    "                 score          = 0.5,\n",
    "                 write          = False)\n",
    "sym_b_o, dice_b_o = compute_scores(args_b_o)"
   ]
  },
  {
   "cell_type": "code",
   "execution_count": 3,
   "metadata": {},
   "outputs": [
    {
     "name": "stdout",
     "output_type": "stream",
     "text": [
      "loading annotations into memory...\n",
      "Done (t=0.07s)\n",
      "creating index...\n",
      "index created!\n",
      "Loaded data\n",
      "\n",
      "Data Prepared for computation\n",
      "Total element to analyze: 3626\n",
      "Total element inside the images 3778\n",
      "\n",
      "Starting computing Scores\n",
      "\n"
     ]
    },
    {
     "name": "stderr",
     "output_type": "stream",
     "text": [
      "Dice: 100%|##########| 3626/3626 [00:08<00:00, 423.00it/s]\n",
      "Symmetric Dice: 100%|##########| 3778/3778 [00:08<00:00, 444.59it/s]\n"
     ]
    }
   ],
   "source": [
    "args_s_o = Namespace(result_path    = \"../AdelaiDet/training_dir/solo_R_101_3x_2/inference/coco_instances_results.json\",\n",
    "                 gt_path        = \"../dataset/annotations/validation900.json\",\n",
    "                 score          = 0.5,\n",
    "                 write          = False)\n",
    "sym_s_o, dice_s_o = compute_scores(args_s_o)"
   ]
  },
  {
   "cell_type": "code",
   "execution_count": 4,
   "metadata": {},
   "outputs": [
    {
     "name": "stdout",
     "output_type": "stream",
     "text": [
      "loading annotations into memory...\n",
      "Done (t=0.04s)\n",
      "creating index...\n",
      "index created!\n",
      "Loaded data\n",
      "\n",
      "Data Prepared for computation\n",
      "Total element to analyze: 5140\n",
      "Total element inside the images 4228\n",
      "\n",
      "Starting computing Scores\n",
      "\n"
     ]
    },
    {
     "name": "stderr",
     "output_type": "stream",
     "text": [
      "Dice: 100%|##########| 5140/5140 [00:10<00:00, 477.17it/s]\n",
      "Symmetric Dice: 100%|##########| 4228/4228 [00:10<00:00, 394.46it/s]\n"
     ]
    }
   ],
   "source": [
    "args_b_c = Namespace(result_path    = \"../AdelaiDet/training_dir/blendmask_R_101_dcn_5x_3/inference/coco_instances_results.json\",\n",
    "                 gt_path        = \"../dataset/annotations/validation1350.json\",\n",
    "                 score          = 0.5,\n",
    "                 write          = False)\n",
    "sym_b_c, dice_b_c = compute_scores(args_b_c)"
   ]
  },
  {
   "cell_type": "code",
   "execution_count": 5,
   "metadata": {},
   "outputs": [
    {
     "name": "stdout",
     "output_type": "stream",
     "text": [
      "loading annotations into memory...\n",
      "Done (t=0.09s)\n",
      "creating index...\n",
      "index created!\n",
      "Loaded data\n",
      "\n",
      "Data Prepared for computation\n",
      "Total element to analyze: 3872\n",
      "Total element inside the images 4228\n",
      "\n",
      "Starting computing Scores\n",
      "\n"
     ]
    },
    {
     "name": "stderr",
     "output_type": "stream",
     "text": [
      "Dice: 100%|##########| 3872/3872 [00:08<00:00, 461.33it/s]\n",
      "Symmetric Dice: 100%|##########| 4228/4228 [00:08<00:00, 506.10it/s]\n"
     ]
    }
   ],
   "source": [
    "args_s_c = Namespace(result_path    = \"../AdelaiDet/training_dir/solo_R_101_3x_1/inference/coco_instances_results.json\",\n",
    "                 gt_path        = \"../dataset/annotations/validation1350.json\",\n",
    "                 score          = 0.5,\n",
    "                 write          = False)\n",
    "sym_s_c, dice_s_c = compute_scores(args_s_c)"
   ]
  },
  {
   "cell_type": "markdown",
   "metadata": {},
   "source": [
    "Put the results to the percentage"
   ]
  },
  {
   "cell_type": "code",
   "execution_count": 6,
   "metadata": {},
   "outputs": [],
   "source": [
    "sym_b_o     *= 100\n",
    "dice_b_o    *= 100\n",
    "sym_s_o     *= 100\n",
    "dice_s_o    *= 100\n",
    "sym_b_c     *= 100\n",
    "dice_b_c    *= 100\n",
    "sym_s_c     *= 100\n",
    "dice_s_c    *= 100"
   ]
  },
  {
   "cell_type": "markdown",
   "metadata": {},
   "source": [
    "### Set the result to a dataframe\n",
    "\n",
    "### Computed results are Symmetric Best Dice and the Dice score "
   ]
  },
  {
   "cell_type": "code",
   "execution_count": 12,
   "metadata": {},
   "outputs": [
    {
     "name": "stdout",
     "output_type": "stream",
     "text": [
      "                                SBD       Dice\n",
      "BlendMask non overlapped  88.652733  87.728898\n",
      "SOLO non overlapped       90.482341  92.960905\n",
      "BlendMask two categories  87.042934  76.732865\n",
      "SOLO two categories       90.869231  95.053775\n",
      "slice random walk         74.700000  89.900000\n"
     ]
    }
   ],
   "source": [
    "data = pd.DataFrame(\n",
    "    [   [sym_b_o, dice_b_o],\n",
    "        [sym_s_o, dice_s_o],\n",
    "        [sym_b_c, dice_b_c],\n",
    "        [sym_s_c, dice_s_c],\n",
    "        [74.7, 89.9]], \n",
    "    columns=[\"SBD\", \"Dice\"], \n",
    "    index=[\"BlendMask non overlapped\", \"SOLO non overlapped\", \"BlendMask two categories\", \"SOLO two categories\", \"slice random walk\"])\n",
    "\n",
    "print(data)"
   ]
  },
  {
   "cell_type": "code",
   "execution_count": 13,
   "metadata": {},
   "outputs": [
    {
     "data": {
      "text/plain": [
       "<AxesSubplot:>"
      ]
     },
     "execution_count": 13,
     "metadata": {},
     "output_type": "execute_result"
    },
    {
     "data": {
      "image/png": "[encoded data removed]",
      "text/plain": [
       "<Figure size 432x288 with 1 Axes>"
      ]
     },
     "metadata": {
      "needs_background": "light"
     },
     "output_type": "display_data"
    }
   ],
   "source": [
    "data.plot.bar()"
   ]
  },
  {
   "cell_type": "code",
   "execution_count": null,
   "metadata": {},
   "outputs": [],
   "source": []
  },
  {
   "cell_type": "code",
   "execution_count": null,
   "metadata": {},
   "outputs": [],
   "source": []
  }
 ],
 "metadata": {
  "interpreter": {
   "hash": "56fbcff402189b5264ad9bd1b7d3e0a8e3d5427cc7df32169f182a8143ca9987"
  },
  "kernelspec": {
   "display_name": "Python 3.9.7 64-bit ('tesi': conda)",
   "language": "python",
   "name": "python3"
  },
  "language_info": {
   "codemirror_mode": {
    "name": "ipython",
    "version": 3
   },
   "file_extension": ".py",
   "mimetype": "text/x-python",
   "name": "python",
   "nbconvert_exporter": "python",
   "pygments_lexer": "ipython3",
   "version": "3.9.7"
  },
  "orig_nbformat": 4
 },
 "nbformat": 4,
 "nbformat_minor": 2
}
