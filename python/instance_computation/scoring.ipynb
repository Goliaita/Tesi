{
 "cells": [
  {
   "cell_type": "markdown",
   "metadata": {},
   "source": [
    "# Compute and compare different networks to \"Hierarchical Framework for Leaf Instance Segmentation\""
   ]
  },
  {
   "cell_type": "code",
   "execution_count": 42,
   "metadata": {},
   "outputs": [],
   "source": [
    "from argparse import Namespace\n",
    "import numpy as np\n",
    "from matplotlib import pyplot as plt\n",
    "import pandas as pd\n",
    "from compute_scores import compute_scores"
   ]
  },
  {
   "cell_type": "markdown",
   "metadata": {},
   "source": [
    "### Set the default value to run the script\n",
    "\n",
    "- result_path: is the detected area from the networks\n",
    "- gt_path: is the ground truth annotation area\n",
    "- score: is the prediction probabilities default is 0.5\n",
    "- write: is used to write results in a file"
   ]
  },
  {
   "cell_type": "code",
   "execution_count": 43,
   "metadata": {},
   "outputs": [],
   "source": [
    "validation = \"../dataset/annotations/MSU-PID/validation300.json\"\n",
    "\n",
    "results = [\n",
    "    \"/data/basile/Project/AdelaiDet/training_dir/blendmask_R101_dcn_ppd/inference/coco_instances_results.json\",\n",
    "    \"/data/basile/Project/AdelaiDet/training_dir/solo_R_101_ppd/inference/coco_instances_results.json\", # devo mettere quello calcolato\n",
    "    \"/data/basile/Project/instance_computation/results/MMPPD_yolact_base_results.json\",\n",
    "    \"/data/basile/Project/instance_computation/results/MMPPD_yolact_plus_results.json\"\n",
    "]"
   ]
  },
  {
   "cell_type": "code",
   "execution_count": 44,
   "metadata": {},
   "outputs": [
    {
     "name": "stdout",
     "output_type": "stream",
     "text": [
      "analyzing coco_instances_results.json\n",
      "loading annotations into memory...\n",
      "Done (t=0.01s)\n",
      "creating index...\n",
      "index created!\n",
      "Loaded data\n",
      "\n",
      "Data Prepared for computation\n",
      "Total element to analyze: 846\n",
      "Total element inside the images 609\n",
      "\n",
      "Starting computing Scores\n",
      "\n"
     ]
    },
    {
     "name": "stderr",
     "output_type": "stream",
     "text": [
      "Dice: 100%|##########| 846/846 [00:01<00:00, 722.92it/s] \n",
      "Symmetric Dice: 100%|##########| 609/609 [00:01<00:00, 520.50it/s]\n"
     ]
    },
    {
     "name": "stdout",
     "output_type": "stream",
     "text": [
      "analyzing coco_instances_results.json\n",
      "loading annotations into memory...\n",
      "Done (t=0.01s)\n",
      "creating index...\n",
      "index created!\n",
      "Loaded data\n",
      "\n",
      "Data Prepared for computation\n",
      "Total element to analyze: 166\n",
      "Total element inside the images 609\n",
      "\n",
      "Starting computing Scores\n",
      "\n"
     ]
    },
    {
     "name": "stderr",
     "output_type": "stream",
     "text": [
      "Dice: 100%|##########| 166/166 [00:00<00:00, 600.81it/s]\n",
      "Symmetric Dice: 100%|##########| 609/609 [00:00<00:00, 2210.35it/s]\n"
     ]
    },
    {
     "name": "stdout",
     "output_type": "stream",
     "text": [
      "analyzing MMPPD_yolact_base_results.json\n",
      "loading annotations into memory...\n",
      "Done (t=0.01s)\n",
      "creating index...\n",
      "index created!\n",
      "Loaded data\n",
      "\n",
      "Data Prepared for computation\n",
      "Total element to analyze: 2463\n",
      "Total element inside the images 609\n",
      "\n",
      "Starting computing Scores\n",
      "\n"
     ]
    },
    {
     "name": "stderr",
     "output_type": "stream",
     "text": [
      "Dice: 100%|##########| 2463/2463 [00:01<00:00, 1880.55it/s]\n",
      "Symmetric Dice: 100%|##########| 609/609 [00:01<00:00, 473.21it/s]\n"
     ]
    },
    {
     "name": "stdout",
     "output_type": "stream",
     "text": [
      "analyzing MMPPD_yolact_plus_results.json\n",
      "loading annotations into memory...\n",
      "Done (t=0.01s)\n",
      "creating index...\n",
      "index created!\n",
      "Loaded data\n",
      "\n",
      "Data Prepared for computation\n",
      "Total element to analyze: 2466\n",
      "Total element inside the images 609\n",
      "\n",
      "Starting computing Scores\n",
      "\n"
     ]
    },
    {
     "name": "stderr",
     "output_type": "stream",
     "text": [
      "Dice: 100%|##########| 2466/2466 [00:01<00:00, 1835.40it/s]\n",
      "Symmetric Dice: 100%|##########| 609/609 [00:01<00:00, 459.00it/s]\n"
     ]
    }
   ],
   "source": [
    "result_list = []\n",
    "for element in results:\n",
    "    buff = element.split(\"/\")[-1]\n",
    "    print(f\"analyzing {buff}\")\n",
    "    args = Namespace(result_path    = element,\n",
    "                     gt_path        = validation,\n",
    "                     score          = 0.5,\n",
    "                     write          = False)\n",
    "\n",
    "    sbd, dice = compute_scores(args)\n",
    "    result_list.append([sbd,dice])"
   ]
  },
  {
   "cell_type": "markdown",
   "metadata": {},
   "source": [
    "Put the results to the percentage"
   ]
  },
  {
   "cell_type": "markdown",
   "metadata": {},
   "source": [
    "### Set the result to a dataframe\n",
    "\n",
    "### Computed results are Symmetric Best Dice and the Dice score "
   ]
  },
  {
   "cell_type": "code",
   "execution_count": 45,
   "metadata": {},
   "outputs": [
    {
     "name": "stdout",
     "output_type": "stream",
     "text": [
      "                         SBD       Dice\n",
      "BlendMask          72.089732  55.802143\n",
      "SOLOv2             64.517152  75.449734\n",
      "Yolact             62.050720  19.177109\n",
      "Yolact plus        59.272629  19.266941\n",
      "slice random walk  74.700000  89.900000\n"
     ]
    }
   ],
   "source": [
    "result_list = np.array(result_list)\n",
    "\n",
    "result_list = np.append(result_list, [0.747, 0.899]).reshape((-1, 2))\n",
    "\n",
    "result_list *= 100\n",
    "data = pd.DataFrame(\n",
    "    result_list, \n",
    "    columns=[\"SBD\", \"Dice\"], \n",
    "    index=[\"BlendMask\", \"SOLOv2\", \"Yolact\", \"Yolact plus\", \"slice random walk\"])\n",
    "\n",
    "print(data)"
   ]
  },
  {
   "cell_type": "code",
   "execution_count": 46,
   "metadata": {},
   "outputs": [
    {
     "data": {
      "text/plain": [
       "<AxesSubplot:>"
      ]
     },
     "execution_count": 46,
     "metadata": {},
     "output_type": "execute_result"
    },
    {
     "data": {
      "image/png": "[encoded data removed]",
      "text/plain": [
       "<Figure size 432x288 with 1 Axes>"
      ]
     },
     "metadata": {
      "needs_background": "light"
     },
     "output_type": "display_data"
    }
   ],
   "source": [
    "data.plot.barh(ylim=(0,100))"
   ]
  },
  {
   "cell_type": "code",
   "execution_count": 47,
   "metadata": {},
   "outputs": [
    {
     "data": {
      "image/png": "[encoded data removed]",
      "text/plain": [
       "<Figure size 432x288 with 1 Axes>"
      ]
     },
     "metadata": {
      "needs_background": "light"
     },
     "output_type": "display_data"
    }
   ],
   "source": [
    "ax = data.plot(kind='barh', ylim=(0,100)) \n",
    "# for ay in ax:\n",
    "for p in ax.patches:\n",
    "    ax.annotate(np.round(p.get_height(),decimals=2), (p.get_x()+p.get_width()/2., p.get_height()), ha='center', va='center', xytext=(0, 10), textcoords='offset points')\n"
   ]
  },
  {
   "cell_type": "code",
   "execution_count": 48,
   "metadata": {},
   "outputs": [],
   "source": [
    "komatsuna_validation = \"/data/basile/Project/AdelaiDet/datasets/coco/annotations/validation900.json\"\n",
    "\n",
    "komatsuna_results = [\n",
    "    \"/data/basile/Project/AdelaiDet/training_dir/blendmask_R_101_dcn_5x_4/inference/coco_instances_results.json\",\n",
    "    \"/data/basile/Project/AdelaiDet/training_dir/solo_R_101_3x_2/inference/coco_instances_results.json\",\n",
    "    \"/data/basile/Project/instance_computation/results/yolact_komatsuna.json\",\n",
    "    \"/data/basile/Project/instance_computation/results/yolact_plus_komatsuna.json\"\n",
    "]"
   ]
  },
  {
   "cell_type": "code",
   "execution_count": 49,
   "metadata": {},
   "outputs": [
    {
     "name": "stdout",
     "output_type": "stream",
     "text": [
      "analyzing coco_instances_results.json\n",
      "loading annotations into memory...\n",
      "Done (t=0.03s)\n",
      "creating index...\n",
      "index created!\n",
      "Loaded data\n",
      "\n",
      "Data Prepared for computation\n",
      "Total element to analyze: 3418\n",
      "Total element inside the images 3778\n",
      "\n",
      "Starting computing Scores\n",
      "\n"
     ]
    },
    {
     "name": "stderr",
     "output_type": "stream",
     "text": [
      "Dice: 100%|##########| 3418/3418 [00:07<00:00, 429.56it/s]\n",
      "Symmetric Dice: 100%|##########| 3778/3778 [00:07<00:00, 479.68it/s]\n"
     ]
    },
    {
     "name": "stdout",
     "output_type": "stream",
     "text": [
      "analyzing coco_instances_results.json\n",
      "loading annotations into memory...\n",
      "Done (t=0.10s)\n",
      "creating index...\n",
      "index created!\n",
      "Loaded data\n",
      "\n",
      "Data Prepared for computation\n",
      "Total element to analyze: 3026\n",
      "Total element inside the images 3778\n",
      "\n",
      "Starting computing Scores\n",
      "\n"
     ]
    },
    {
     "name": "stderr",
     "output_type": "stream",
     "text": [
      "Dice: 100%|##########| 3026/3026 [00:06<00:00, 433.00it/s]\n",
      "Symmetric Dice: 100%|##########| 3778/3778 [00:06<00:00, 544.39it/s]\n"
     ]
    },
    {
     "name": "stdout",
     "output_type": "stream",
     "text": [
      "analyzing yolact_komatsuna.json\n",
      "loading annotations into memory...\n",
      "Done (t=0.03s)\n",
      "creating index...\n",
      "index created!\n",
      "Loaded data\n",
      "\n",
      "Data Prepared for computation\n",
      "Total element to analyze: 4307\n",
      "Total element inside the images 3778\n",
      "\n",
      "Starting computing Scores\n",
      "\n"
     ]
    },
    {
     "name": "stderr",
     "output_type": "stream",
     "text": [
      "Dice: 100%|##########| 4307/4307 [00:10<00:00, 427.63it/s]\n",
      "Symmetric Dice: 100%|##########| 3778/3778 [00:09<00:00, 379.34it/s]\n"
     ]
    },
    {
     "name": "stdout",
     "output_type": "stream",
     "text": [
      "analyzing yolact_plus_komatsuna.json\n",
      "loading annotations into memory...\n",
      "Done (t=0.03s)\n",
      "creating index...\n",
      "index created!\n",
      "Loaded data\n",
      "\n",
      "Data Prepared for computation\n",
      "Total element to analyze: 4325\n",
      "Total element inside the images 3778\n",
      "\n",
      "Starting computing Scores\n",
      "\n"
     ]
    },
    {
     "name": "stderr",
     "output_type": "stream",
     "text": [
      "Dice: 100%|##########| 4325/4325 [00:10<00:00, 428.35it/s]\n",
      "Symmetric Dice: 100%|##########| 3778/3778 [00:09<00:00, 379.10it/s]\n"
     ]
    }
   ],
   "source": [
    "komatsuna_result_list = []\n",
    "for element in komatsuna_results:\n",
    "    buff = element.split(\"/\")[-1]\n",
    "    print(f\"analyzing {buff}\")\n",
    "    args = Namespace(result_path    = element,\n",
    "                     gt_path        = komatsuna_validation,\n",
    "                     score          = 0.8,\n",
    "                     write          = False)\n",
    "\n",
    "    sbd, dice = compute_scores(args)\n",
    "    komatsuna_result_list.append([sbd,dice])"
   ]
  },
  {
   "cell_type": "code",
   "execution_count": 50,
   "metadata": {},
   "outputs": [
    {
     "name": "stdout",
     "output_type": "stream",
     "text": [
      "                         SBD       Dice\n",
      "BlendMask          88.999020  92.117460\n",
      "SOLOv2             87.045715  95.355122\n",
      "Yolact             85.341699  80.787106\n",
      "Yolact plus        83.781623  79.855406\n",
      "slice random walk  74.700000  89.900000\n"
     ]
    }
   ],
   "source": [
    "komatsuna_result_list = np.array(komatsuna_result_list)\n",
    "\n",
    "komatsuna_result_list = np.append(komatsuna_result_list, [0.747,0.899]).reshape((-1, 2))\n",
    "\n",
    "komatsuna_result_list *= 100\n",
    "komatsuna_data = pd.DataFrame(\n",
    "    komatsuna_result_list, \n",
    "    columns=[\"SBD\", \"Dice\"], \n",
    "    index=[\"BlendMask\", \"SOLOv2\", \"Yolact\", \"Yolact plus\", \"slice random walk\"])\n",
    "\n",
    "print(komatsuna_data)"
   ]
  },
  {
   "cell_type": "code",
   "execution_count": 51,
   "metadata": {},
   "outputs": [
    {
     "data": {
      "text/plain": [
       "<matplotlib.legend.Legend at 0x7f1c4ba8fa90>"
      ]
     },
     "execution_count": 51,
     "metadata": {},
     "output_type": "execute_result"
    },
    {
     "data": {
      "image/png": "[encoded data removed]",
      "text/plain": [
       "<Figure size 432x288 with 1 Axes>"
      ]
     },
     "metadata": {
      "needs_background": "light"
     },
     "output_type": "display_data"
    }
   ],
   "source": [
    "# ax = komatsuna_data.plot(kind='bar', ylim=(0,100))\n",
    "# ax.legend(loc=3)\n",
    "# for p in ax.patches:\n",
    "#     ax.annotate(np.round(p.get_height(),decimals=2), (p.get_x()+p.get_width()/2., p.get_height()), ha='center', va='center', xytext=(0, 10), textcoords='offset points')\n",
    "ax = komatsuna_data.plot.barh(ylim=(0,100), grid=True)\n",
    "ax.legend(loc=3)"
   ]
  },
  {
   "cell_type": "code",
   "execution_count": null,
   "metadata": {},
   "outputs": [],
   "source": []
  },
  {
   "cell_type": "code",
   "execution_count": null,
   "metadata": {},
   "outputs": [],
   "source": []
  }
 ],
 "metadata": {
  "interpreter": {
   "hash": "56fbcff402189b5264ad9bd1b7d3e0a8e3d5427cc7df32169f182a8143ca9987"
  },
  "kernelspec": {
   "display_name": "Python 3.9.7 64-bit ('tesi': conda)",
   "language": "python",
   "name": "python3"
  },
  "language_info": {
   "codemirror_mode": {
    "name": "ipython",
    "version": 3
   },
   "file_extension": ".py",
   "mimetype": "text/x-python",
   "name": "python",
   "nbconvert_exporter": "python",
   "pygments_lexer": "ipython3",
   "version": "3.9.7"
  },
  "orig_nbformat": 4
 },
 "nbformat": 4,
 "nbformat_minor": 2
}
